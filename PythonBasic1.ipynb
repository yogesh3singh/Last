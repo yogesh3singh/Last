{
  "nbformat": 4,
  "nbformat_minor": 0,
  "metadata": {
    "colab": {
      "name": "PythonBasic1.ipynb",
      "version": "0.3.2",
      "provenance": [],
      "include_colab_link": true
    },
    "kernelspec": {
      "name": "python3",
      "display_name": "Python 3"
    }
  },
  "cells": [
    {
      "cell_type": "markdown",
      "metadata": {
        "id": "view-in-github",
        "colab_type": "text"
      },
      "source": [
        "<a href=\"https://colab.research.google.com/github/yogesh3singh/Last/blob/master/PythonBasic1.ipynb\" target=\"_parent\"><img src=\"https://colab.research.google.com/assets/colab-badge.svg\" alt=\"Open In Colab\"/></a>"
      ]
    },
    {
      "cell_type": "markdown",
      "metadata": {
        "id": "5gnU29JVMctp",
        "colab_type": "text"
      },
      "source": [
        "#       Introduction\n",
        "**python basics**"
      ]
    },
    {
      "cell_type": "markdown",
      "metadata": {
        "id": "T7KSN53XPiR9",
        "colab_type": "text"
      },
      "source": [
        "#Integers and Floats (Decimal Number) "
      ]
    },
    {
      "cell_type": "code",
      "metadata": {
        "id": "lVMMN6AWM1V9",
        "colab_type": "code",
        "colab": {
          "base_uri": "https://localhost:8080/",
          "height": 34
        },
        "outputId": "a956e15f-5966-4c38-c1db-c2f16936818a"
      },
      "source": [
        "a=10\n",
        "b=20\n",
        "print(a+b, a-b, a*b, b/a)"
      ],
      "execution_count": 1,
      "outputs": [
        {
          "output_type": "stream",
          "text": [
            "30 -10 200 2.0\n"
          ],
          "name": "stdout"
        }
      ]
    },
    {
      "cell_type": "code",
      "metadata": {
        "id": "fU7wJTltRIy8",
        "colab_type": "code",
        "colab": {
          "base_uri": "https://localhost:8080/",
          "height": 34
        },
        "outputId": "7b48c424-559b-445e-ce52-88584d6d269a"
      },
      "source": [
        "a=20.5\n",
        "b=10.0\n",
        "print(a+b, a-b, a*b, a/b)"
      ],
      "execution_count": 2,
      "outputs": [
        {
          "output_type": "stream",
          "text": [
            "30.5 10.5 205.0 2.05\n"
          ],
          "name": "stdout"
        }
      ]
    },
    {
      "cell_type": "code",
      "metadata": {
        "id": "HNWZLVI8Rp-g",
        "colab_type": "code",
        "colab": {
          "base_uri": "https://localhost:8080/",
          "height": 34
        },
        "outputId": "f3530d20-e47f-4ab3-807d-de382719aac0"
      },
      "source": [
        "a=2.5\n",
        "print(type(a))"
      ],
      "execution_count": 3,
      "outputs": [
        {
          "output_type": "stream",
          "text": [
            "<class 'float'>\n"
          ],
          "name": "stdout"
        }
      ]
    },
    {
      "cell_type": "markdown",
      "metadata": {
        "id": "TS_5gImlUUog",
        "colab_type": "text"
      },
      "source": [
        "#Strings"
      ]
    },
    {
      "cell_type": "code",
      "metadata": {
        "id": "GfXsqL70R0-G",
        "colab_type": "code",
        "colab": {
          "base_uri": "https://localhost:8080/",
          "height": 34
        },
        "outputId": "7ef32427-0f5c-4dc5-ddf7-2e2f53935985"
      },
      "source": [
        "a='Banana'\n",
        "b='Shake'\n",
        "c=a+b\n",
        "print(c)"
      ],
      "execution_count": 4,
      "outputs": [
        {
          "output_type": "stream",
          "text": [
            "BananaShake\n"
          ],
          "name": "stdout"
        }
      ]
    },
    {
      "cell_type": "code",
      "metadata": {
        "id": "dgpN2zSkTiHt",
        "colab_type": "code",
        "colab": {
          "base_uri": "https://localhost:8080/",
          "height": 34
        },
        "outputId": "5e086840-a678-464b-8c29-fecbc2a533ce"
      },
      "source": [
        "a='Banana'\n",
        "b=' Shake'  # If u want to give space between the strings\n",
        "c=a+b\n",
        "print(c)"
      ],
      "execution_count": 5,
      "outputs": [
        {
          "output_type": "stream",
          "text": [
            "Banana Shake\n"
          ],
          "name": "stdout"
        }
      ]
    },
    {
      "cell_type": "code",
      "metadata": {
        "id": "Fh1b37LITtQW",
        "colab_type": "code",
        "colab": {
          "base_uri": "https://localhost:8080/",
          "height": 34
        },
        "outputId": "d9d2d22b-f05c-429f-f3d5-7d0c93d88113"
      },
      "source": [
        "c=a+' '+b  # it is also used to give space between strings\n",
        "print(c)"
      ],
      "execution_count": 7,
      "outputs": [
        {
          "output_type": "stream",
          "text": [
            "Banana  Shake\n"
          ],
          "name": "stdout"
        }
      ]
    },
    {
      "cell_type": "code",
      "metadata": {
        "id": "ZR4ZdYjjV0oU",
        "colab_type": "code",
        "colab": {
          "base_uri": "https://localhost:8080/",
          "height": 34
        },
        "outputId": "6c0755f2-1343-434e-c617-bdc48c6ac57b"
      },
      "source": [
        "print(a[-1])  # It is used to access the last letter of string. This is called indexing\n"
      ],
      "execution_count": 8,
      "outputs": [
        {
          "output_type": "stream",
          "text": [
            "a\n"
          ],
          "name": "stdout"
        }
      ]
    },
    {
      "cell_type": "code",
      "metadata": {
        "id": "eXYEPMXUWGEw",
        "colab_type": "code",
        "colab": {
          "base_uri": "https://localhost:8080/",
          "height": 34
        },
        "outputId": "c7b0c872-195a-4852-b223-1482cff4367e"
      },
      "source": [
        "# SubString\n",
        "print(c[2:5])"
      ],
      "execution_count": 9,
      "outputs": [
        {
          "output_type": "stream",
          "text": [
            "nan\n"
          ],
          "name": "stdout"
        }
      ]
    },
    {
      "cell_type": "markdown",
      "metadata": {
        "id": "fpf55uODUneV",
        "colab_type": "text"
      },
      "source": [
        "#Lists   \n",
        "\n",
        "1.   **to create a list**\n",
        "2.   **use [  ] to create list**\n",
        "3.    **A list can hold any data type**\n",
        "4. **Example : Your mother told you to bring fruits**\n",
        "                   *   Apple\n",
        "                   *   Milk\n",
        "\n",
        "\n",
        "\n",
        "\n",
        "\n",
        "\n",
        "\n"
      ]
    },
    {
      "cell_type": "code",
      "metadata": {
        "id": "lCGpimvMT5sY",
        "colab_type": "code",
        "colab": {
          "base_uri": "https://localhost:8080/",
          "height": 50
        },
        "outputId": "3341b3d3-0650-40f5-d552-7fe390a158f1"
      },
      "source": [
        "a=['Banana', 'Milk', 'Carrot']\n",
        "print(a)\n",
        "print(len(a))"
      ],
      "execution_count": 10,
      "outputs": [
        {
          "output_type": "stream",
          "text": [
            "['Banana', 'Milk', 'Carrot']\n",
            "3\n"
          ],
          "name": "stdout"
        }
      ]
    },
    {
      "cell_type": "code",
      "metadata": {
        "id": "M16mfttaW30f",
        "colab_type": "code",
        "colab": {
          "base_uri": "https://localhost:8080/",
          "height": 34
        },
        "outputId": "e9158fbc-e41d-403f-fa2b-018103ad094a"
      },
      "source": [
        "print(a[2])  # Indexing"
      ],
      "execution_count": 11,
      "outputs": [
        {
          "output_type": "stream",
          "text": [
            "Carrot\n"
          ],
          "name": "stdout"
        }
      ]
    },
    {
      "cell_type": "code",
      "metadata": {
        "id": "gJE0f3kHW_HQ",
        "colab_type": "code",
        "colab": {
          "base_uri": "https://localhost:8080/",
          "height": 34
        },
        "outputId": "e323df89-6ff1-4fb5-f99d-7d0d8e7542cc"
      },
      "source": [
        "print(a[1:3])  # It is called slicing i.e. extracting a sub-list from a list"
      ],
      "execution_count": 12,
      "outputs": [
        {
          "output_type": "stream",
          "text": [
            "['Milk', 'Carrot']\n"
          ],
          "name": "stdout"
        }
      ]
    },
    {
      "cell_type": "code",
      "metadata": {
        "id": "4LkHvXrwXs5Y",
        "colab_type": "code",
        "colab": {
          "base_uri": "https://localhost:8080/",
          "height": 34
        },
        "outputId": "92524076-3035-4f73-9b56-65740f93a80a"
      },
      "source": [
        "a[2]='Tomato'  # replacing Carrot with tomato\n",
        "print(a)"
      ],
      "execution_count": 14,
      "outputs": [
        {
          "output_type": "stream",
          "text": [
            "['Banana', 'Milk', 'Tomato']\n"
          ],
          "name": "stdout"
        }
      ]
    },
    {
      "cell_type": "code",
      "metadata": {
        "id": "d68F2u_9ZrK6",
        "colab_type": "code",
        "colab": {
          "base_uri": "https://localhost:8080/",
          "height": 34
        },
        "outputId": "0b7824df-9d4c-4035-e125-683616cedc09"
      },
      "source": [
        "b=['Apple', 'Milk']\n",
        "c=a+b #  Concatenating\n",
        "print(c)"
      ],
      "execution_count": 15,
      "outputs": [
        {
          "output_type": "stream",
          "text": [
            "['Banana', 'Milk', 'Tomato', 'Apple', 'Milk']\n"
          ],
          "name": "stdout"
        }
      ]
    },
    {
      "cell_type": "code",
      "metadata": {
        "id": "VgRmvKNaaBl4",
        "colab_type": "code",
        "colab": {
          "base_uri": "https://localhost:8080/",
          "height": 34
        },
        "outputId": "829ff55e-ccb9-48ed-f614-73cbec70f0bf"
      },
      "source": [
        "d=c+[\"Mango\"]  # Apend\n",
        "print(d)"
      ],
      "execution_count": 16,
      "outputs": [
        {
          "output_type": "stream",
          "text": [
            "['Banana', 'Milk', 'Tomato', 'Apple', 'Milk', 'Mango']\n"
          ],
          "name": "stdout"
        }
      ]
    },
    {
      "cell_type": "code",
      "metadata": {
        "id": "AllKZ4XwaKnU",
        "colab_type": "code",
        "colab": {
          "base_uri": "https://localhost:8080/",
          "height": 67
        },
        "outputId": "824c6c02-3483-4973-c05b-1596f467306b"
      },
      "source": [
        "a=[1,2,3,\"Apple\"]\n",
        "b=[2,4,4,\"Banana\",9]\n",
        "print(a+b)  #Concatination\n",
        "print(a[2])  #Identifying\n",
        "a[2]=\"Rat\"   #Modifying\n",
        "print(a)"
      ],
      "execution_count": 17,
      "outputs": [
        {
          "output_type": "stream",
          "text": [
            "[1, 2, 3, 'Apple', 2, 4, 4, 'Banana', 9]\n",
            "3\n",
            "[1, 2, 'Rat', 'Apple']\n"
          ],
          "name": "stdout"
        }
      ]
    },
    {
      "cell_type": "markdown",
      "metadata": {
        "id": "vBu2AR5ulHhP",
        "colab_type": "text"
      },
      "source": [
        "#Dictionary\n",
        "\n",
        "1.   **used when quantity is also added with list**\n",
        "2.   **use {   }   to create list**\n",
        "3. **Example : Your mother told you to bring fruits and their quantity also**\n",
        "                   *   Apple   1kg\n",
        "                   *   Milk    2lit"
      ]
    },
    {
      "cell_type": "code",
      "metadata": {
        "id": "cws1RjG2jr-J",
        "colab_type": "code",
        "colab": {
          "base_uri": "https://localhost:8080/",
          "height": 50
        },
        "outputId": "c2a53376-2859-4820-8369-7de4231c041d"
      },
      "source": [
        "a={'Banana':12, 'Milk':'1 litre', 'Apple':' 1kg'} # a key-value pair\n",
        "print(a)\n",
        "print(len(a))"
      ],
      "execution_count": 18,
      "outputs": [
        {
          "output_type": "stream",
          "text": [
            "{'Banana': 12, 'Milk': '1 litre', 'Apple': ' 1kg'}\n",
            "3\n"
          ],
          "name": "stdout"
        }
      ]
    },
    {
      "cell_type": "code",
      "metadata": {
        "id": "ddGSFKNmwb1s",
        "colab_type": "code",
        "colab": {
          "base_uri": "https://localhost:8080/",
          "height": 34
        },
        "outputId": "50e56e84-ef81-4d2a-daf2-b891e82c1574"
      },
      "source": [
        "print(a['Apple']) # print(a[2]) will give error i.e. keyerror  this is Identification"
      ],
      "execution_count": 19,
      "outputs": [
        {
          "output_type": "stream",
          "text": [
            " 1kg\n"
          ],
          "name": "stdout"
        }
      ]
    },
    {
      "cell_type": "code",
      "metadata": {
        "id": "NXpGIhBOzZU2",
        "colab_type": "code",
        "colab": {
          "base_uri": "https://localhost:8080/",
          "height": 34
        },
        "outputId": "ab8082d9-18ce-49d4-dcb0-d76b854edf86"
      },
      "source": [
        "a['Banana']=24 # Modification\n",
        "print(a)"
      ],
      "execution_count": 22,
      "outputs": [
        {
          "output_type": "stream",
          "text": [
            "{'Banana': 24, 'Milk': '1 litre', 'Apple': ' 1kg'}\n"
          ],
          "name": "stdout"
        }
      ]
    },
    {
      "cell_type": "code",
      "metadata": {
        "id": "nWP94pf4z6ad",
        "colab_type": "code",
        "colab": {
          "base_uri": "https://localhost:8080/",
          "height": 34
        },
        "outputId": "16fcfc76-f69c-4b33-c844-48731b16e5e0"
      },
      "source": [
        "a[\"Carrot\"]=\"2 kg\" # Append\n",
        "print(a)"
      ],
      "execution_count": 23,
      "outputs": [
        {
          "output_type": "stream",
          "text": [
            "{'Banana': 24, 'Milk': '1 litre', 'Apple': ' 1kg', 'Carrot': '2 kg'}\n"
          ],
          "name": "stdout"
        }
      ]
    },
    {
      "cell_type": "code",
      "metadata": {
        "id": "mUMFxTx30nBT",
        "colab_type": "code",
        "colab": {
          "base_uri": "https://localhost:8080/",
          "height": 50
        },
        "outputId": "53098b5a-c156-4523-b571-abbace70c8c9"
      },
      "source": [
        "print(a.keys())\n",
        "print(a.values())"
      ],
      "execution_count": 24,
      "outputs": [
        {
          "output_type": "stream",
          "text": [
            "dict_keys(['Banana', 'Milk', 'Apple', 'Carrot'])\n",
            "dict_values([24, '1 litre', ' 1kg', '2 kg'])\n"
          ],
          "name": "stdout"
        }
      ]
    },
    {
      "cell_type": "markdown",
      "metadata": {
        "id": "y4TQzHWU1ZHY",
        "colab_type": "text"
      },
      "source": [
        "#Conditionals\n",
        "**if elif else**"
      ]
    },
    {
      "cell_type": "code",
      "metadata": {
        "id": "G5ZnEf-O1WXw",
        "colab_type": "code",
        "colab": {
          "base_uri": "https://localhost:8080/",
          "height": 34
        },
        "outputId": "4d695dab-29f2-4535-e8b3-3e39189df608"
      },
      "source": [
        "i=4\n",
        "if i>0:\n",
        "  print(\"Positive\")\n",
        "elif i<0:\n",
        "  print(\"Negative\")\n",
        "else:\n",
        "  print(\"Zero\")"
      ],
      "execution_count": 25,
      "outputs": [
        {
          "output_type": "stream",
          "text": [
            "Positive\n"
          ],
          "name": "stdout"
        }
      ]
    },
    {
      "cell_type": "markdown",
      "metadata": {
        "id": "GUVrMNqu3xcA",
        "colab_type": "text"
      },
      "source": [
        "### Add 5 banana in your list"
      ]
    },
    {
      "cell_type": "code",
      "metadata": {
        "id": "g-xuVBXk3wF3",
        "colab_type": "code",
        "colab": {
          "base_uri": "https://localhost:8080/",
          "height": 34
        },
        "outputId": "70752056-ceff-44e9-d2d5-4f423e0c6804"
      },
      "source": [
        "a={'Banana':12, 'Milk':'1 litre', 'Apple':' 1kg'} \n",
        "if 'Banana' in a:\n",
        "  a['Banana']+=5\n",
        "else:\n",
        "  a['Banana']=5\n",
        "print(a)"
      ],
      "execution_count": 29,
      "outputs": [
        {
          "output_type": "stream",
          "text": [
            "{'Banana': 17, 'Milk': '1 litre', 'Apple': ' 1kg'}\n"
          ],
          "name": "stdout"
        }
      ]
    },
    {
      "cell_type": "markdown",
      "metadata": {
        "id": "V8kdEiYj4mlq",
        "colab_type": "text"
      },
      "source": [
        "#Loops\n",
        "\n",
        "## for Loop"
      ]
    },
    {
      "cell_type": "code",
      "metadata": {
        "id": "dToTtAGY4Wzr",
        "colab_type": "code",
        "colab": {
          "base_uri": "https://localhost:8080/",
          "height": 101
        },
        "outputId": "73c6b918-87d7-4392-f55b-926dbfd0fe10"
      },
      "source": [
        "for i in range(5):\n",
        "  print(i)"
      ],
      "execution_count": 30,
      "outputs": [
        {
          "output_type": "stream",
          "text": [
            "0\n",
            "1\n",
            "2\n",
            "3\n",
            "4\n"
          ],
          "name": "stdout"
        }
      ]
    },
    {
      "cell_type": "markdown",
      "metadata": {
        "id": "oHOmgYCG5I69",
        "colab_type": "text"
      },
      "source": [
        "print all items in list along with their quantities"
      ]
    },
    {
      "cell_type": "code",
      "metadata": {
        "id": "ty6obXFu48ho",
        "colab_type": "code",
        "colab": {
          "base_uri": "https://localhost:8080/",
          "height": 67
        },
        "outputId": "a5246bfc-fe7d-40e1-a978-0a4efe1c1d4a"
      },
      "source": [
        "for key in a:\n",
        "  print(key, '-', a[key])"
      ],
      "execution_count": 31,
      "outputs": [
        {
          "output_type": "stream",
          "text": [
            "Banana - 17\n",
            "Milk - 1 litre\n",
            "Apple -  1kg\n"
          ],
          "name": "stdout"
        }
      ]
    },
    {
      "cell_type": "code",
      "metadata": {
        "id": "EYgMD67x5d_O",
        "colab_type": "code",
        "colab": {
          "base_uri": "https://localhost:8080/",
          "height": 101
        },
        "outputId": "08a10b93-7091-4eb7-c91d-d16c0f72d06b"
      },
      "source": [
        "i=1\n",
        "for k in range(5):\n",
        "  i+=1\n",
        "  print(i)"
      ],
      "execution_count": 34,
      "outputs": [
        {
          "output_type": "stream",
          "text": [
            "2\n",
            "3\n",
            "4\n",
            "5\n",
            "6\n"
          ],
          "name": "stdout"
        }
      ]
    },
    {
      "cell_type": "markdown",
      "metadata": {
        "id": "NwmOcZOs7X_k",
        "colab_type": "text"
      },
      "source": [
        "#While Loop"
      ]
    },
    {
      "cell_type": "code",
      "metadata": {
        "id": "Z7LUBwLh6vR6",
        "colab_type": "code",
        "colab": {
          "base_uri": "https://localhost:8080/",
          "height": 84
        },
        "outputId": "a26438d4-7be0-4ec5-ed45-c09ff0fb341e"
      },
      "source": [
        "#List all integers  starting from zero such that their square is less than 20\n",
        "i=0\n",
        "sqr=0\n",
        "while(sqr<20):\n",
        "  print(i)\n",
        "  i=i+1\n",
        "  sqr=sqr+i*i"
      ],
      "execution_count": 41,
      "outputs": [
        {
          "output_type": "stream",
          "text": [
            "0\n",
            "1\n",
            "2\n",
            "3\n"
          ],
          "name": "stdout"
        }
      ]
    },
    {
      "cell_type": "code",
      "metadata": {
        "id": "NVZiywZz7_nt",
        "colab_type": "code",
        "colab": {}
      },
      "source": [
        ""
      ],
      "execution_count": 0,
      "outputs": []
    }
  ]
}