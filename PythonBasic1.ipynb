{
  "nbformat": 4,
  "nbformat_minor": 0,
  "metadata": {
    "colab": {
      "name": "PythonBasic1.ipynb",
      "version": "0.3.2",
      "provenance": [],
      "include_colab_link": true
    },
    "kernelspec": {
      "name": "python3",
      "display_name": "Python 3"
    }
  },
  "cells": [
    {
      "cell_type": "markdown",
      "metadata": {
        "id": "view-in-github",
        "colab_type": "text"
      },
      "source": [
        "<a href=\"https://colab.research.google.com/github/yogesh3singh/Last/blob/master/PythonBasic1.ipynb\" target=\"_parent\"><img src=\"https://colab.research.google.com/assets/colab-badge.svg\" alt=\"Open In Colab\"/></a>"
      ]
    },
    {
      "cell_type": "markdown",
      "metadata": {
        "id": "5gnU29JVMctp",
        "colab_type": "text"
      },
      "source": [
        "#       Introduction\n",
        "**python basics**"
      ]
    },
    {
      "cell_type": "markdown",
      "metadata": {
        "id": "T7KSN53XPiR9",
        "colab_type": "text"
      },
      "source": [
        "#Integers and Floats (Decimal Number) "
      ]
    },
    {
      "cell_type": "code",
      "metadata": {
        "id": "lVMMN6AWM1V9",
        "colab_type": "code",
        "colab": {}
      },
      "source": [
        ""
      ],
      "execution_count": 0,
      "outputs": []
    }
  ]
}